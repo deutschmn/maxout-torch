{
 "cells": [
  {
   "cell_type": "markdown",
   "metadata": {},
   "source": [
    "# Maxout implementation in Pytorch\n",
    "\n",
    "In 2013, Goodfellow et al. introduced the paper _Maxout networks_ (https://arxiv.org/abs/1302.4389). This is a very simple application of it on the MNIST data set (http://yann.lecun.com/exdb/mnist/)."
   ]
  },
  {
   "cell_type": "code",
   "execution_count": 12,
   "metadata": {},
   "outputs": [],
   "source": [
    "import torch \n",
    "import torch.nn as nn \n",
    "from torch.autograd import Variable\n",
    "from torchvision import datasets, transforms \n",
    "import torch.nn.functional as F"
   ]
  },
  {
   "cell_type": "markdown",
   "metadata": {},
   "source": [
    "## Load MNIST data"
   ]
  },
  {
   "cell_type": "code",
   "execution_count": 2,
   "metadata": {},
   "outputs": [],
   "source": [
    "learning_rate = 0.0001\n",
    "batch_size = 50\n",
    "n_epochs = 3\n",
    "cuda = torch.cuda.is_available()"
   ]
  },
  {
   "cell_type": "code",
   "execution_count": 3,
   "metadata": {},
   "outputs": [],
   "source": [
    "train_loader = torch.utils.data.DataLoader(\n",
    "    datasets.MNIST('../data', train=True, download=True,\n",
    "                   transform=transforms.Compose([\n",
    "                       transforms.ToTensor(),\n",
    "                       transforms.Normalize((0.1307,), (0.3081,)) # MNIST mean and std\n",
    "                       ])),\n",
    "                       batch_size=batch_size, shuffle=True)"
   ]
  },
  {
   "cell_type": "code",
   "execution_count": 4,
   "metadata": {},
   "outputs": [],
   "source": [
    "test_loader = torch.utils.data.DataLoader(\n",
    "    datasets.MNIST('../data', train=False, transform=transforms.Compose([\n",
    "                       transforms.ToTensor(),\n",
    "                       transforms.Normalize((0.1307,), (0.3081,)) # MNIST mean and std\n",
    "                       ])),\n",
    "                       batch_size=batch_size, shuffle=True)"
   ]
  },
  {
   "cell_type": "markdown",
   "metadata": {},
   "source": [
    "## Define maxout activation function\n",
    "see https://github.com/pytorch/pytorch/issues/805#issuecomment-460385007"
   ]
  },
  {
   "cell_type": "code",
   "execution_count": 5,
   "metadata": {},
   "outputs": [],
   "source": [
    "class Maxout(nn.Module):\n",
    "    def __init__(self, pool_size):\n",
    "        super().__init__()\n",
    "        self._pool_size = pool_size\n",
    "\n",
    "    def forward(self, x):\n",
    "        assert x.shape[1] % self._pool_size == 0, \\\n",
    "            'Wrong input last dim size ({}) for Maxout({})'.format(x.shape[1], self._pool_size)\n",
    "        m, i = x.view(*x.shape[:1], x.shape[1] // self._pool_size, self._pool_size, *x.shape[2:]).max(2)\n",
    "        return m"
   ]
  },
  {
   "cell_type": "code",
   "execution_count": 6,
   "metadata": {},
   "outputs": [
    {
     "data": {
      "text/plain": [
       "tensor([[ 0,  1,  2,  3,  4,  5],\n",
       "        [ 6,  7,  8,  9, 10, 11],\n",
       "        [12, 13, 14, 15, 16, 17]])"
      ]
     },
     "execution_count": 6,
     "metadata": {},
     "output_type": "execute_result"
    }
   ],
   "source": [
    "torch.arange(3*6).view(3,6)"
   ]
  },
  {
   "cell_type": "code",
   "execution_count": 7,
   "metadata": {},
   "outputs": [
    {
     "data": {
      "text/plain": [
       "tensor([[ 2,  5],\n",
       "        [ 8, 11],\n",
       "        [14, 17]])"
      ]
     },
     "execution_count": 7,
     "metadata": {},
     "output_type": "execute_result"
    }
   ],
   "source": [
    "Maxout(3)(torch.arange(3*6).view(3,6))"
   ]
  },
  {
   "cell_type": "markdown",
   "metadata": {},
   "source": [
    "## Build a network using maxout"
   ]
  },
  {
   "cell_type": "code",
   "execution_count": 15,
   "metadata": {},
   "outputs": [],
   "source": [
    "class linear_maxout(nn.Module):\n",
    "    def __init__(self, pool_size=2, in_dim=784, out_dim=10, latent_size=512):\n",
    "        super(linear_maxout, self).__init__()\n",
    "        \n",
    "        self.lin1 = nn.Linear(in_dim, pool_size * latent_size) # account for maxout pool size\n",
    "        self.lin2 = nn.Linear(latent_size, pool_size * out_dim) # account for maxout pool size\n",
    "        \n",
    "        self.dropout = nn.Dropout()\n",
    "        self.maxout = Maxout(pool_size)\n",
    "\n",
    "    def forward(self, x): \n",
    "        x = x.view(-1, 784)\n",
    "        x = self.maxout(self.lin1(x))\n",
    "        x = self.dropout(x)\n",
    "        x = self.maxout(self.lin2(x))\n",
    "        return F.log_softmax(x)"
   ]
  },
  {
   "cell_type": "markdown",
   "metadata": {},
   "source": [
    "### Train the network\n",
    "\n",
    "train loop taken from https://github.com/Duncanswilson/maxout-pytorch"
   ]
  },
  {
   "cell_type": "code",
   "execution_count": 16,
   "metadata": {},
   "outputs": [],
   "source": [
    "def train(epoch,  net, train_loss, train_acc): \n",
    "    optimizer = torch.optim.Adam(net.parameters(), lr=learning_rate)\n",
    "    net.train()\n",
    "    for batch_idx, (data, target) in enumerate(train_loader): \n",
    "        if cuda:\n",
    "            data, target = Variable(data).cuda(0), Variable(target).cuda(0)\n",
    "        else:\n",
    "            data, target = Variable(data), Variable(target)\n",
    "            \n",
    "        optimizer.zero_grad()\n",
    "        output = net(data)\n",
    "        loss = F.cross_entropy(output, target)\n",
    "        train_loss.append(loss.data.item())\n",
    "        loss.backward()\n",
    "        optimizer.step()\n",
    "        prediction = output.data.max(1)[1]\n",
    "        accuracy = prediction.eq(target.data).sum()*1.0/batch_size*100.0 \n",
    "        train_acc.append(accuracy)\n",
    "        if batch_idx % 100 == 0:\n",
    "            print('Train Epoch: {} [{}/{} ({:.0f}%)]\\tLoss: {:.6f}'.format(\n",
    "                epoch, batch_idx * len(data), len(train_loader.dataset),\n",
    "                100. * batch_idx / len(train_loader), loss.data.item()))"
   ]
  },
  {
   "cell_type": "code",
   "execution_count": 17,
   "metadata": {},
   "outputs": [],
   "source": [
    "def test(epoch, net):\n",
    "    net.eval()\n",
    "    test_loss = 0\n",
    "    correct = 0\n",
    "    for data, target in test_loader:\n",
    "        if cuda:\n",
    "            data, target = data.cuda(), target.cuda()\n",
    "        data, target = Variable(data, volatile=True), Variable(target)\n",
    "        output = net(data)\n",
    "        test_loss += F.cross_entropy(output, target).data.item()\n",
    "        pred = output.data.max(1)[1] # get the index of the max log-probability\n",
    "        correct += pred.eq(target.data).cpu().sum()\n",
    "\n",
    "    test_loss = test_loss\n",
    "    test_loss /= len(test_loader) # loss function already averages over batch size\n",
    "    print('\\nTest set: Average loss: {:.4f}, Accuracy: {}/{} ({:.0f}%)\\n'.format(\n",
    "        test_loss, correct, len(test_loader.dataset),\n",
    "        100. * correct / len(test_loader.dataset)))"
   ]
  },
  {
   "cell_type": "code",
   "execution_count": 18,
   "metadata": {},
   "outputs": [
    {
     "name": "stderr",
     "output_type": "stream",
     "text": [
      "<ipython-input-15-bc0a4cdb4b51>:16: UserWarning: Implicit dimension choice for log_softmax has been deprecated. Change the call to include dim=X as an argument.\n",
      "  return F.log_softmax(x)\n"
     ]
    },
    {
     "name": "stdout",
     "output_type": "stream",
     "text": [
      "Train Epoch: 0 [0/60000 (0%)]\tLoss: 2.429063\n",
      "Train Epoch: 0 [5000/60000 (8%)]\tLoss: 0.725715\n",
      "Train Epoch: 0 [10000/60000 (17%)]\tLoss: 0.276739\n",
      "Train Epoch: 0 [15000/60000 (25%)]\tLoss: 0.368991\n",
      "Train Epoch: 0 [20000/60000 (33%)]\tLoss: 0.328864\n",
      "Train Epoch: 0 [25000/60000 (42%)]\tLoss: 0.371243\n",
      "Train Epoch: 0 [30000/60000 (50%)]\tLoss: 0.218287\n",
      "Train Epoch: 0 [35000/60000 (58%)]\tLoss: 0.350424\n",
      "Train Epoch: 0 [40000/60000 (67%)]\tLoss: 0.220010\n",
      "Train Epoch: 0 [45000/60000 (75%)]\tLoss: 0.274568\n",
      "Train Epoch: 0 [50000/60000 (83%)]\tLoss: 0.141643\n",
      "Train Epoch: 0 [55000/60000 (92%)]\tLoss: 0.184786\n"
     ]
    },
    {
     "name": "stderr",
     "output_type": "stream",
     "text": [
      "<ipython-input-17-e6d30ee751da>:8: UserWarning: volatile was removed and now has no effect. Use `with torch.no_grad():` instead.\n",
      "  data, target = Variable(data, volatile=True), Variable(target)\n"
     ]
    },
    {
     "name": "stdout",
     "output_type": "stream",
     "text": [
      "\n",
      "Test set: Average loss: 0.1907, Accuracy: 9455/10000 (95%)\n",
      "\n",
      "Train Epoch: 1 [0/60000 (0%)]\tLoss: 0.077745\n",
      "Train Epoch: 1 [5000/60000 (8%)]\tLoss: 0.374768\n",
      "Train Epoch: 1 [10000/60000 (17%)]\tLoss: 0.232981\n",
      "Train Epoch: 1 [15000/60000 (25%)]\tLoss: 0.129268\n",
      "Train Epoch: 1 [20000/60000 (33%)]\tLoss: 0.285309\n",
      "Train Epoch: 1 [25000/60000 (42%)]\tLoss: 0.168647\n",
      "Train Epoch: 1 [30000/60000 (50%)]\tLoss: 0.029623\n",
      "Train Epoch: 1 [35000/60000 (58%)]\tLoss: 0.086505\n",
      "Train Epoch: 1 [40000/60000 (67%)]\tLoss: 0.356617\n",
      "Train Epoch: 1 [45000/60000 (75%)]\tLoss: 0.249041\n",
      "Train Epoch: 1 [50000/60000 (83%)]\tLoss: 0.140249\n",
      "Train Epoch: 1 [55000/60000 (92%)]\tLoss: 0.216417\n",
      "\n",
      "Test set: Average loss: 0.1277, Accuracy: 9635/10000 (96%)\n",
      "\n",
      "Train Epoch: 2 [0/60000 (0%)]\tLoss: 0.096674\n",
      "Train Epoch: 2 [5000/60000 (8%)]\tLoss: 0.179264\n",
      "Train Epoch: 2 [10000/60000 (17%)]\tLoss: 0.047403\n",
      "Train Epoch: 2 [15000/60000 (25%)]\tLoss: 0.108224\n",
      "Train Epoch: 2 [20000/60000 (33%)]\tLoss: 0.099563\n",
      "Train Epoch: 2 [25000/60000 (42%)]\tLoss: 0.053181\n",
      "Train Epoch: 2 [30000/60000 (50%)]\tLoss: 0.096067\n",
      "Train Epoch: 2 [35000/60000 (58%)]\tLoss: 0.114264\n",
      "Train Epoch: 2 [40000/60000 (67%)]\tLoss: 0.163851\n",
      "Train Epoch: 2 [45000/60000 (75%)]\tLoss: 0.039891\n",
      "Train Epoch: 2 [50000/60000 (83%)]\tLoss: 0.295594\n",
      "Train Epoch: 2 [55000/60000 (92%)]\tLoss: 0.315198\n",
      "\n",
      "Test set: Average loss: 0.1052, Accuracy: 9696/10000 (97%)\n",
      "\n"
     ]
    }
   ],
   "source": [
    "if cuda:\n",
    "    linear_maxout = linear_maxout().cuda()\n",
    "else:\n",
    "    linear_maxout = linear_maxout()\n",
    "loss = [] \n",
    "acc = []\n",
    "for epoch in range(n_epochs): \n",
    "    train(epoch, linear_maxout, loss, acc)\n",
    "    test(epoch, linear_maxout)"
   ]
  },
  {
   "cell_type": "code",
   "execution_count": null,
   "metadata": {},
   "outputs": [],
   "source": []
  },
  {
   "cell_type": "code",
   "execution_count": null,
   "metadata": {},
   "outputs": [],
   "source": []
  }
 ],
 "metadata": {
  "kernelspec": {
   "display_name": "Python 3",
   "language": "python",
   "name": "python3"
  },
  "language_info": {
   "codemirror_mode": {
    "name": "ipython",
    "version": 3
   },
   "file_extension": ".py",
   "mimetype": "text/x-python",
   "name": "python",
   "nbconvert_exporter": "python",
   "pygments_lexer": "ipython3",
   "version": "3.9.1"
  }
 },
 "nbformat": 4,
 "nbformat_minor": 4
}
